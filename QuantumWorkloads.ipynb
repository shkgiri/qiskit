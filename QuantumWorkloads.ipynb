import qiskit_machine_learning
import pandas as pd
import numpy as np
from sklearn import preprocessing
from sklearn.model_selection import train_test_split
from sklearn.preprocessing import MinMaxScaler
